{
  "nbformat": 4,
  "nbformat_minor": 0,
  "metadata": {
    "colab": {
      "name": "presentation.ipynb",
      "version": "0.3.2",
      "provenance": [],
      "include_colab_link": true
    },
    "kernelspec": {
      "display_name": "Python 3",
      "language": "python",
      "name": "python3"
    }
  },
  "cells": [
    {
      "cell_type": "markdown",
      "metadata": {
        "id": "view-in-github",
        "colab_type": "text"
      },
      "source": [
        "<a href=\"https://colab.research.google.com/github/zoldello/pytorch-presentation-nov-2018/blob/master/presentation.ipynb\" target=\"_parent\"><img src=\"https://colab.research.google.com/assets/colab-badge.svg\" alt=\"Open In Colab\"/></a>"
      ]
    },
    {
      "metadata": {
        "id": "xmqkeKIXiuKt",
        "colab_type": "text"
      },
      "cell_type": "markdown",
      "source": [
        "\n",
        "\n",
        "---\n",
        "\n",
        "\n",
        "\n",
        "## Philip Adenekan \n",
        "## Overview of Pytorch\n",
        "## Cherry Lab Dev Meeting\n",
        "## Cherry Lab\n",
        "## November, 2018\n",
        "\n",
        "\n",
        "---\n",
        "\n"
      ]
    },
    {
      "metadata": {
        "id": "dtLrLieojOGJ",
        "colab_type": "text"
      },
      "cell_type": "markdown",
      "source": [
        "\n",
        "\n",
        "---\n",
        "\n",
        "\n",
        "# Overview \n",
        "- What is Pytorch?\n",
        "-  Mathematics\n",
        "- Tensors\n",
        "- Autograd\n",
        "\n",
        "\n",
        "---\n",
        "\n"
      ]
    },
    {
      "metadata": {
        "id": "5YN2gw2gkWwt",
        "colab_type": "text"
      },
      "cell_type": "markdown",
      "source": [
        "\n",
        "\n",
        "---\n",
        "\n",
        "\n",
        "# Pytorch\n",
        "It’s a <u>Python-based scientific computing package</u> targeted at two sets of audiences:\n",
        "1.   A replacement for NumPy with added GPU support \n",
        "2.   A deep learning research platform that provides maximum flexibility and speed\n",
        "\n",
        "**Presentation based on v0.41; v1 is in preview.**\n",
        "\n",
        "\n",
        "---\n",
        "\n",
        "\n",
        "\n"
      ]
    },
    {
      "metadata": {
        "colab_type": "text",
        "id": "hH43_SSlcWQN"
      },
      "cell_type": "markdown",
      "source": [
        "\n",
        "\n",
        "---\n",
        "\n",
        "\n",
        "# More on Pytorch\n",
        "- Facebook's Python-port of Torch (Torch written in Lua) \n",
        "\n",
        "- Users: Facebook, Uber, Stanford and many others in industry and academia\n",
        "\n",
        "- Andrej Karpathy quote- \"*... using Pytorch... I've never felt better. I have more energy. My skin is clearer. My eye sight  has improved*\" [4]\n",
        "\n",
        "\n",
        "---\n",
        "\n",
        "\n"
      ]
    },
    {
      "metadata": {
        "id": "HWcdc6ESHPiS",
        "colab_type": "text"
      },
      "cell_type": "markdown",
      "source": [
        "\n",
        "\n",
        "---\n",
        "\n",
        "\n",
        "# Them of  Pytorch Operations\n",
        "- Heavy focus on **Tensor** manipulation\n",
        "- Build-in methods to support Tensor operation\n",
        "    - Arithmetic\n",
        "    - Neural Network task\n",
        "    \n",
        "\n",
        "---\n",
        "\n"
      ]
    },
    {
      "metadata": {
        "id": "0xqekJCPj0DJ",
        "colab_type": "text"
      },
      "cell_type": "markdown",
      "source": [
        "\n",
        "\n",
        "---\n",
        "# Mathematics \n",
        "\n",
        "<table>\n",
        "    <th>\n",
        "        <td></td>\n",
        "        <td>**Number**<td>\n",
        "         <td>**1 X n Numbers **<td>\n",
        "                <td>**n X m Numbers**<td>\n",
        "    </th>\n",
        "    <tr>\n",
        "         <td>Computer Scientist<td>\n",
        "         <td>int<td>\n",
        "                <td>array<td>\n",
        "            <td>nd-array<td>\n",
        "    <tr>\n",
        "            <tr>\n",
        "         <td>Mathematicians<td>\n",
        "         <td>scalar<td>\n",
        "                <td>vector<td>\n",
        "            <td>tensor<td>\n",
        "    <tr>\n",
        "   </table>\n",
        "\n",
        "- **Tensor** is commonly used in Pytorch.\n",
        "- Tensor  used to model scalar and vectors (okay in Machine Learning)\n",
        "- Slew of operations possible- Transport, arthmetic, etc\n",
        "\n",
        "               \n",
        "\n",
        "---\n",
        "\n"
      ]
    },
    {
      "metadata": {
        "id": "QGqhm_tXfTMT",
        "colab_type": "text"
      },
      "cell_type": "markdown",
      "source": [
        "\n",
        "\n",
        "---\n",
        "\n",
        "\n",
        "# Mathematical Operations to Keep in Mind\n",
        "\n",
        "- Gradient (just think of it as slope)\n",
        "- Chain role (Find gradient by finding a gradient of something else firt)\n",
        "\n",
        "\n",
        "---\n",
        "\n"
      ]
    },
    {
      "metadata": {
        "id": "YX1gyE7-ik-r",
        "colab_type": "code",
        "colab": {}
      },
      "cell_type": "code",
      "source": [
        "# INITIALIZATION CODE NEEDED BY COLLAB\n",
        "# http://pytorch.org/\n",
        "from os.path import exists\n",
        "from wheel.pep425tags import get_abbr_impl, get_impl_ver, get_abi_tag\n",
        "platform = '{}{}-{}'.format(get_abbr_impl(), get_impl_ver(), get_abi_tag())\n",
        "cuda_output = !ldconfig -p|grep cudart.so|sed -e 's/.*\\.\\([0-9]*\\)\\.\\([0-9]*\\)$/cu\\1\\2/'\n",
        "accelerator = cuda_output[0] if exists('/dev/nvidia0') else 'cpu'\n",
        "\n",
        "!pip install -q http://download.pytorch.org/whl/{accelerator}/torch-0.4.1-{platform}-linux_x86_64.whl torchvision\n",
        "import torch\n",
        "from torch import autograd\n",
        "from torch.autograd import Variable\n"
      ],
      "execution_count": 0,
      "outputs": []
    },
    {
      "metadata": {
        "id": "MidL7qevp7RS",
        "colab_type": "text"
      },
      "cell_type": "markdown",
      "source": [
        "\n",
        "\n",
        "---\n",
        "# Pytorch Tensors\n",
        "\n",
        "- Creating a Tensor\n",
        "\n",
        "\n",
        "```\n",
        "x = torch.tensor([1,2]) # 1-D tensor, vector\n",
        "x = torch.tensor([[1,2], [3,4]]) # 2-D tensor, matrix\n",
        " \n",
        "\n",
        "```\n",
        "\n",
        "Many other means to create a tensor:\n",
        "- x = torch.rand(1,2)\n",
        "- x =  torch.zeros(1,2)\n",
        "- x = torch.ones(1,2)\n",
        "- x = torch.Tensor(1,2)\n",
        "- x = torch.FloatTensor([1,2,3])\n",
        "- x = torch.DoubleTensor([1,2,3])\n",
        "\n",
        "---\n",
        "\n"
      ]
    },
    {
      "metadata": {
        "id": "d6sphTczs6Mq",
        "colab_type": "code",
        "outputId": "1d944d71-e3df-4988-8b14-045dfe5dff77",
        "colab": {
          "base_uri": "https://localhost:8080/",
          "height": 107
        }
      },
      "cell_type": "code",
      "source": [
        "# building a tensor\n",
        "x = torch.tensor([[1.0,2.], [3.,4.]])\n",
        "print(f'Tensor: {x}')\n",
        "print(f'Type: {type(x)}')\n",
        "print(f'DType: {x.dtype}')\n",
        "print(f'Mean: {x.mean()}')\n",
        "\n"
      ],
      "execution_count": 7,
      "outputs": [
        {
          "output_type": "stream",
          "text": [
            "Tensor: tensor([[1., 2.],\n",
            "        [3., 4.]])\n",
            "Type: <class 'torch.Tensor'>\n",
            "DType: torch.float32\n",
            "Mean: 2.5\n"
          ],
          "name": "stdout"
        }
      ]
    },
    {
      "metadata": {
        "id": "rZIid1hitm1T",
        "colab_type": "code",
        "outputId": "c7de7eeb-acd3-49e3-ad87-64e0ca9af87d",
        "colab": {
          "base_uri": "https://localhost:8080/",
          "height": 71
        }
      },
      "cell_type": "code",
      "source": [
        "# tensor information\n",
        "x = torch.tensor([1,2])\n",
        "print(f'Shape: {x.shape}') # count of rows and columns\n",
        "print(f'Size : {x.size()}') # equivalent to shape\n",
        "print(f'Dimension: {x.dim()}')"
      ],
      "execution_count": 3,
      "outputs": [
        {
          "output_type": "stream",
          "text": [
            "Shape: torch.Size([2])\n",
            "Size : torch.Size([2])\n",
            "Dimension: 1\n"
          ],
          "name": "stdout"
        }
      ]
    },
    {
      "metadata": {
        "id": "YXXmDAiaj0VM",
        "colab_type": "text"
      },
      "cell_type": "markdown",
      "source": [
        "\n",
        "\n",
        "\n",
        "```\n",
        "\n"
      ]
    },
    {
      "metadata": {
        "id": "Y_4LMHSp05Mi",
        "colab_type": "text"
      },
      "cell_type": "markdown",
      "source": [
        "\n",
        "\n",
        "---\n",
        "\n",
        "\n",
        "# Variables \n",
        "- ## Deprecated and no longer necessary in v1 pre-release \n",
        "- Many sample code based on v0.41 so good to be aware of it\n",
        "- Tensor wrapper for storing gradient(stores operations performed on said tensor)\n",
        "- Three componenets\n",
        "    - data; Retrieve tensor\n",
        "    - grad: gradient\n",
        "    - grad_fn: function object for creating variable\n",
        "- Used commonly in deep learning\n",
        "\n",
        "\n",
        "\n",
        "\n",
        "---\n",
        "\n",
        "\n",
        "\n"
      ]
    },
    {
      "metadata": {
        "id": "JBgsAs-4rrL5",
        "colab_type": "code",
        "colab": {
          "base_uri": "https://localhost:8080/",
          "height": 35
        },
        "outputId": "18392431-204d-4deb-963a-1803faefba9d"
      },
      "cell_type": "code",
      "source": [
        "# creating a Variable\n",
        "y = Variable(torch.tensor([1.0,2.0], requires_grad=True)) # tensor must be a float\n",
        "print(y)"
      ],
      "execution_count": 10,
      "outputs": [
        {
          "output_type": "stream",
          "text": [
            "tensor([1., 2.])\n"
          ],
          "name": "stdout"
        }
      ]
    },
    {
      "metadata": {
        "id": "07_KFslOO3-p",
        "colab_type": "text"
      },
      "cell_type": "markdown",
      "source": [
        "\n",
        "\n",
        "---\n",
        "\n",
        "# Artifical Neural Network \n",
        "- Collection of nodes loosely based biological brain\n",
        "\n",
        "- Purpose is to model non-linear equation\n",
        "\n",
        "- Needs training\n",
        "\n",
        "- Has three layers\n",
        "    - Input\n",
        "    - Hidden\n",
        "    - Output\n",
        "\n",
        "- Illustration:\n",
        "    - inputs (**X**i) is multiple with weights (wi) and summed\n",
        "    - The total sum is passed through an activation function\n",
        "        - ReLU, Sigmoid, tanh\n",
        "    - Activation function determine output** y**\n",
        "    - ReLU; 0 if y <=0, else y \n",
        "\n",
        "![Neural Network](https://cdn-images-1.medium.com/max/1200/1*0NKtEk20-qnaLkwOa8DlnA.png)\n",
        "Fig 1. Image of a Neural Network [5]\n",
        "\n",
        "\n",
        "## Learning: Converge weights so that the error in output from running the Neural Network is very low\n",
        "\n",
        "---\n",
        "\n"
      ]
    },
    {
      "metadata": {
        "id": "7De8L6UZdjFI",
        "colab_type": "text"
      },
      "cell_type": "markdown",
      "source": [
        "# Learning\n",
        "\n",
        "![Neural Network error vs weight](http://www.cs.cornell.edu/boom/2004sp/projectarch/appofneuralnetworkcrystallography/images/NeuralNetworkErrorCurve.jpg)\n",
        "\n",
        "\n",
        "- Want to be at Global minnum\n",
        "- Accept with hand-waving. \n",
        "- Watch [11] for details"
      ]
    },
    {
      "metadata": {
        "id": "vJksD4lgRe-E",
        "colab_type": "text"
      },
      "cell_type": "markdown",
      "source": [
        "\n",
        "\n",
        "---\n",
        "\n",
        "\n",
        "# Deep Neural Networks\n",
        "\n",
        "- Has large number of nodes\n",
        "\n",
        "- Better at modeling complex equation than shallow Neural Network\n",
        "\n",
        "- Exploded-popularity due to great results\n",
        "    - Better at image classification than humans in some cases [6]\n",
        "    - Beat best go-players [7]\n",
        "    - Gaining popularity in biomedical imaging [8]\n",
        "    - Common used in autonomous vehicles [9]\n",
        "   \n",
        "\n",
        "---\n",
        "\n"
      ]
    },
    {
      "metadata": {
        "id": "XkkFextIVIIy",
        "colab_type": "text"
      },
      "cell_type": "markdown",
      "source": [
        "\n",
        "\n",
        "---\n",
        "\n",
        "\n",
        "# Deep Neural Networks Not a Magic Bullet\n",
        "- Need lots of data (100,000 training samples is nice)\n",
        "\n",
        "- Given with GPU, can take days to train\n",
        "\n",
        "- Other solution more effective in small-class problems like linear problems\n",
        "\n",
        "- Current a black box (albeit research is ongoing to change this and technically convolutional neural networks have some interpretation)\n",
        "\n",
        "\n",
        "---\n",
        "\n"
      ]
    },
    {
      "metadata": {
        "id": "q1CKvLSgX5Wd",
        "colab_type": "text"
      },
      "cell_type": "markdown",
      "source": [
        "\n",
        "\n",
        "---\n",
        "# Deep Neural Network of the Demo [10]\n",
        "\n",
        "![Neural Network from Adventure in Machine Learning](http://adventuresinmachinelearning.com/wp-content/uploads/2017/07/CNTK-Dense-example-architecture.jpg)\n",
        "\n",
        "\n",
        "---\n",
        "Fig 2: A  Deep neural network [10]\n",
        "\n",
        "\n",
        "\n",
        "\n"
      ]
    },
    {
      "metadata": {
        "id": "EBpANZ4lW7oC",
        "colab_type": "text"
      },
      "cell_type": "markdown",
      "source": [
        "\n",
        "\n",
        "---\n",
        "\n",
        "\n",
        "# Pytorch-Neural Network Setup\n",
        "- Layers\n",
        "-  Forward Propagation\n",
        "- Training\n",
        "- Validation\n",
        "- Quantification with test data (beyond scope)\n",
        "\n",
        "- This demo will be based on work in [10]\n",
        "\n",
        "\n",
        "---\n",
        "\n"
      ]
    },
    {
      "metadata": {
        "id": "FDsFN8LP5FP9",
        "colab_type": "code",
        "colab": {}
      },
      "cell_type": "code",
      "source": [
        "import torch.nn as nn # deep learning class\n",
        "import torchvision.datasets as dsets # MNIST data (repository of handwriting samples for image analysis [28 X 28 matrix])\n",
        "import torchvision.transforms as transforms\n",
        "from torch.autograd import Variable # autograd"
      ],
      "execution_count": 0,
      "outputs": []
    },
    {
      "metadata": {
        "id": "bOulaVlA6Yjf",
        "colab_type": "code",
        "colab": {
          "base_uri": "https://localhost:8080/",
          "height": 125
        },
        "outputId": "92c5eecf-3ad9-4150-88d3-933cc4e8432b"
      },
      "cell_type": "code",
      "source": [
        "# accessing MNIST data (pytorch comes with a sample along with Iris [flowers])\n",
        "train_dataset = dsets.MNIST(root='./data',\n",
        "                           train=True,\n",
        "                           transform=transforms.ToTensor(),\n",
        "                           download=True)\n",
        "\n",
        "test_dataset = dsets.MNIST(root='./data',\n",
        "                           train=False,\n",
        "                           transform=transforms.ToTensor())"
      ],
      "execution_count": 5,
      "outputs": [
        {
          "output_type": "stream",
          "text": [
            "Downloading http://yann.lecun.com/exdb/mnist/train-images-idx3-ubyte.gz\n",
            "Downloading http://yann.lecun.com/exdb/mnist/train-labels-idx1-ubyte.gz\n",
            "Downloading http://yann.lecun.com/exdb/mnist/t10k-images-idx3-ubyte.gz\n",
            "Downloading http://yann.lecun.com/exdb/mnist/t10k-labels-idx1-ubyte.gz\n",
            "Processing...\n",
            "Done!\n"
          ],
          "name": "stdout"
        }
      ]
    },
    {
      "metadata": {
        "id": "8f8F5_qa6znn",
        "colab_type": "code",
        "colab": {}
      },
      "cell_type": "code",
      "source": [
        "#data loaders\n",
        "train_loader = torch.utils.data.DataLoader(dataset=train_dataset,\n",
        "                                          batch_size=batch_size,\n",
        "                                          shuffle=True)\n",
        "\n",
        "test_loader = torch.utils.data.DataLoader(dataset=test_dataset,\n",
        "                                          batch_size=batch_size,\n",
        "                                          shuffle=False)\n"
      ],
      "execution_count": 0,
      "outputs": []
    },
    {
      "metadata": {
        "id": "zD8My71QXd4w",
        "colab_type": "code",
        "colab": {}
      },
      "cell_type": "code",
      "source": [
        "import torch.nn as nn # base class for a deep neural network\n",
        "import torch.nn.functional as F\n",
        "\n",
        "class Net(nn.Module):\n",
        "    def __init__(self):\n",
        "        super(Net, self).__init__()\n",
        "        # Hyperparameters- Things you can adjust to better train network \n",
        "        input_size = 784       # The image size = 28 x 28 = 784\n",
        "        hidden_size = 500      # Number of nodes in the hidden layer\n",
        "        num_classes = 10       # Number of output classes. In this case, from 0 to 9\n",
        "        num_epochs = 5         # Number of times entire dataset is trained\n",
        "        batch_size = 100       # Size of input data took for one iteration\n",
        "        learning_rate = 0.001  # The speed of convergence\n",
        "        \n",
        "        # setting up Deep Neural Network\n",
        "        self.fc1 = nn.Linear(input_size, hidden_size) # first hidden layer, input=784, output=500\n",
        "        self.fc2 = nn.Linear(hidden_size, num_classes) # second hidden layer, input=500, output=10\n",
        "        self.activation_fn = nn.ReLU()\n"
      ],
      "execution_count": 0,
      "outputs": []
    },
    {
      "metadata": {
        "id": "onPiQCJbZXUb",
        "colab_type": "code",
        "colab": {}
      },
      "cell_type": "code",
      "source": [
        "# forward propagation\n",
        "def forward(self, x):\n",
        "    out = self.fc1(x)\n",
        "    out = self.activation_fn(out) # ReLU activation function on first layer\n",
        "    out = (self.fc2(out)) # ReLU on second hidden layer \n",
        "    return out"
      ],
      "execution_count": 0,
      "outputs": []
    },
    {
      "metadata": {
        "id": "E7LDTkwxaNqs",
        "colab_type": "code",
        "colab": {
          "base_uri": "https://localhost:8080/",
          "height": 107
        },
        "outputId": "a3f0ddbe-38e5-4489-846a-8ed88d4743b6"
      },
      "cell_type": "code",
      "source": [
        "# lets preview the network\n",
        "net = Net()\n",
        "print(net)"
      ],
      "execution_count": 25,
      "outputs": [
        {
          "output_type": "stream",
          "text": [
            "Net(\n",
            "  (fc1): Linear(in_features=784, out_features=500, bias=True)\n",
            "  (fc2): Linear(in_features=500, out_features=10, bias=True)\n",
            "  (activation_fn): ReLU()\n",
            ")\n"
          ],
          "name": "stdout"
        }
      ]
    },
    {
      "metadata": {
        "id": "STKb7I6K9Fp2",
        "colab_type": "code",
        "colab": {}
      },
      "cell_type": "code",
      "source": [
        "# run GPU iff available\n",
        "if torch.cuda.is_available():\n",
        "    net.cuda()"
      ],
      "execution_count": 0,
      "outputs": []
    },
    {
      "metadata": {
        "id": "yDHQmWdl-vWO",
        "colab_type": "code",
        "colab": {}
      },
      "cell_type": "code",
      "source": [
        "\n",
        "criterion = nn.CrossEntropyLoss() # loss function used for determining error\n",
        "optimizer = torch.optim.Adam(net.parameters(), lr=learning_rate) # way of updating weight"
      ],
      "execution_count": 0,
      "outputs": []
    },
    {
      "metadata": {
        "id": "hVpbRzEJ_Hda",
        "colab_type": "code",
        "colab": {
          "base_uri": "https://localhost:8080/",
          "height": 513
        },
        "outputId": "5818e6e3-fefd-44d1-bf78-fe9bff711d2b"
      },
      "cell_type": "code",
      "source": [
        "# training\n",
        "\n",
        "\n",
        "for epoch in range(num_epochs):\n",
        "    for i, (images, labels) in enumerate(train_loader):   # Load a batch of images with its (index, data, class)\n",
        "        images = Variable(images.view(-1, 28*28))         # Convert torch tensor to Variable: change image from a vector of size 784 to a matrix of 28 x 28\n",
        "        labels = Variable(labels)\n",
        "        \n",
        "        optimizer.zero_grad()                             # Intialize the hidden weight to all zeros\n",
        "        outputs = net(images)                             # Forward pass: compute the output class given a image\n",
        "        loss = criterion(outputs, labels)                 # Compute the loss: difference between the output class and the pre-given label\n",
        "        loss.backward()                                   # Backward pass: compute the weight\n",
        "        optimizer.step()                                  # Optimizer: update the weights of hidden nodes\n",
        "        \n",
        "        if (i+1) % 100 == 0:                              # Logging\n",
        "            print('Epoch [%d/%d], Step [%d/%d], Loss: %.4f'\n",
        "                 %(epoch+1, num_epochs, i+1, len(train_dataset)//batch_size, loss.data[0]))"
      ],
      "execution_count": 31,
      "outputs": [
        {
          "output_type": "error",
          "ename": "NotImplementedError",
          "evalue": "ignored",
          "traceback": [
            "\u001b[0;31m---------------------------------------------------------------------------\u001b[0m",
            "\u001b[0;31mNotImplementedError\u001b[0m                       Traceback (most recent call last)",
            "\u001b[0;32m<ipython-input-31-09a00af41575>\u001b[0m in \u001b[0;36m<module>\u001b[0;34m()\u001b[0m\n\u001b[1;32m      7\u001b[0m \u001b[0;34m\u001b[0m\u001b[0m\n\u001b[1;32m      8\u001b[0m         \u001b[0moptimizer\u001b[0m\u001b[0;34m.\u001b[0m\u001b[0mzero_grad\u001b[0m\u001b[0;34m(\u001b[0m\u001b[0;34m)\u001b[0m                             \u001b[0;31m# Intialize the hidden weight to all zeros\u001b[0m\u001b[0;34m\u001b[0m\u001b[0m\n\u001b[0;32m----> 9\u001b[0;31m         \u001b[0moutputs\u001b[0m \u001b[0;34m=\u001b[0m \u001b[0mnet\u001b[0m\u001b[0;34m(\u001b[0m\u001b[0mimages\u001b[0m\u001b[0;34m)\u001b[0m                             \u001b[0;31m# Forward pass: compute the output class given a image\u001b[0m\u001b[0;34m\u001b[0m\u001b[0m\n\u001b[0m\u001b[1;32m     10\u001b[0m         \u001b[0mloss\u001b[0m \u001b[0;34m=\u001b[0m \u001b[0mcriterion\u001b[0m\u001b[0;34m(\u001b[0m\u001b[0moutputs\u001b[0m\u001b[0;34m,\u001b[0m \u001b[0mlabels\u001b[0m\u001b[0;34m)\u001b[0m                 \u001b[0;31m# Compute the loss: difference between the output class and the pre-given label\u001b[0m\u001b[0;34m\u001b[0m\u001b[0m\n\u001b[1;32m     11\u001b[0m         \u001b[0mloss\u001b[0m\u001b[0;34m.\u001b[0m\u001b[0mbackward\u001b[0m\u001b[0;34m(\u001b[0m\u001b[0;34m)\u001b[0m                                   \u001b[0;31m# Backward pass: compute the weight\u001b[0m\u001b[0;34m\u001b[0m\u001b[0m\n",
            "\u001b[0;32m/usr/local/lib/python3.6/dist-packages/torch/nn/modules/module.py\u001b[0m in \u001b[0;36m__call__\u001b[0;34m(self, *input, **kwargs)\u001b[0m\n\u001b[1;32m    475\u001b[0m             \u001b[0mresult\u001b[0m \u001b[0;34m=\u001b[0m \u001b[0mself\u001b[0m\u001b[0;34m.\u001b[0m\u001b[0m_slow_forward\u001b[0m\u001b[0;34m(\u001b[0m\u001b[0;34m*\u001b[0m\u001b[0minput\u001b[0m\u001b[0;34m,\u001b[0m \u001b[0;34m**\u001b[0m\u001b[0mkwargs\u001b[0m\u001b[0;34m)\u001b[0m\u001b[0;34m\u001b[0m\u001b[0m\n\u001b[1;32m    476\u001b[0m         \u001b[0;32melse\u001b[0m\u001b[0;34m:\u001b[0m\u001b[0;34m\u001b[0m\u001b[0m\n\u001b[0;32m--> 477\u001b[0;31m             \u001b[0mresult\u001b[0m \u001b[0;34m=\u001b[0m \u001b[0mself\u001b[0m\u001b[0;34m.\u001b[0m\u001b[0mforward\u001b[0m\u001b[0;34m(\u001b[0m\u001b[0;34m*\u001b[0m\u001b[0minput\u001b[0m\u001b[0;34m,\u001b[0m \u001b[0;34m**\u001b[0m\u001b[0mkwargs\u001b[0m\u001b[0;34m)\u001b[0m\u001b[0;34m\u001b[0m\u001b[0m\n\u001b[0m\u001b[1;32m    478\u001b[0m         \u001b[0;32mfor\u001b[0m \u001b[0mhook\u001b[0m \u001b[0;32min\u001b[0m \u001b[0mself\u001b[0m\u001b[0;34m.\u001b[0m\u001b[0m_forward_hooks\u001b[0m\u001b[0;34m.\u001b[0m\u001b[0mvalues\u001b[0m\u001b[0;34m(\u001b[0m\u001b[0;34m)\u001b[0m\u001b[0;34m:\u001b[0m\u001b[0;34m\u001b[0m\u001b[0m\n\u001b[1;32m    479\u001b[0m             \u001b[0mhook_result\u001b[0m \u001b[0;34m=\u001b[0m \u001b[0mhook\u001b[0m\u001b[0;34m(\u001b[0m\u001b[0mself\u001b[0m\u001b[0;34m,\u001b[0m \u001b[0minput\u001b[0m\u001b[0;34m,\u001b[0m \u001b[0mresult\u001b[0m\u001b[0;34m)\u001b[0m\u001b[0;34m\u001b[0m\u001b[0m\n",
            "\u001b[0;32m/usr/local/lib/python3.6/dist-packages/torch/nn/modules/module.py\u001b[0m in \u001b[0;36mforward\u001b[0;34m(self, *input)\u001b[0m\n\u001b[1;32m     81\u001b[0m             \u001b[0mregistered\u001b[0m \u001b[0mhooks\u001b[0m \u001b[0;32mwhile\u001b[0m \u001b[0mthe\u001b[0m \u001b[0mlatter\u001b[0m \u001b[0msilently\u001b[0m \u001b[0mignores\u001b[0m \u001b[0mthem\u001b[0m\u001b[0;34m.\u001b[0m\u001b[0;34m\u001b[0m\u001b[0m\n\u001b[1;32m     82\u001b[0m         \"\"\"\n\u001b[0;32m---> 83\u001b[0;31m         \u001b[0;32mraise\u001b[0m \u001b[0mNotImplementedError\u001b[0m\u001b[0;34m\u001b[0m\u001b[0m\n\u001b[0m\u001b[1;32m     84\u001b[0m \u001b[0;34m\u001b[0m\u001b[0m\n\u001b[1;32m     85\u001b[0m     \u001b[0;32mdef\u001b[0m \u001b[0mregister_buffer\u001b[0m\u001b[0;34m(\u001b[0m\u001b[0mself\u001b[0m\u001b[0;34m,\u001b[0m \u001b[0mname\u001b[0m\u001b[0;34m,\u001b[0m \u001b[0mtensor\u001b[0m\u001b[0;34m)\u001b[0m\u001b[0;34m:\u001b[0m\u001b[0;34m\u001b[0m\u001b[0m\n",
            "\u001b[0;31mNotImplementedError\u001b[0m: "
          ]
        }
      ]
    },
    {
      "metadata": {
        "id": "1G928PIlaVMR",
        "colab_type": "text"
      },
      "cell_type": "markdown",
      "source": [
        "# Status Report\n",
        "- Made a Neural Network\n",
        "- Next Step- Trainingf"
      ]
    },
    {
      "metadata": {
        "id": "Pmej27gubY5G",
        "colab_type": "code",
        "colab": {}
      },
      "cell_type": "code",
      "source": [
        "from torch import optim\n",
        "\n",
        "\n",
        "# Speed of learning\n",
        "# Too high- Fails to converge to a minimum error\n",
        "# Too low- Takes very long time to learn\n",
        "# Best to set high initially and gradually decrease\n",
        "learning_rate = 0.01\n",
        "\n",
        "# reduce pertubation while learning\n",
        "momentum = 0.9\n",
        "\n",
        "# create a stochastic gradient descent optimizer\n",
        "optimizer = optim.SGD(net.parameters(), lr=learning_rate, momentum=momentum)\n",
        "\n",
        "\n",
        "# create a loss function\n",
        "criterion = nn.NLLLoss()"
      ],
      "execution_count": 0,
      "outputs": []
    },
    {
      "metadata": {
        "id": "85Q4hM0wg8qw",
        "colab_type": "code",
        "colab": {
          "base_uri": "https://localhost:8080/",
          "height": 241
        },
        "outputId": "dd8fbe9f-9033-4cb8-b1df-368b88a22a53"
      },
      "cell_type": "code",
      "source": [
        "# number of times to go through data\n",
        "epochs = 1000\n",
        "\n",
        "# run the main training loop\n",
        "for epoch in range(epochs):\n",
        "    for batch_idx, (data, target) in enumerate(train_loader):\n",
        "        data, target = Variable(data), Variable(target)\n",
        "        # resize data from (batch_size, 1, 28, 28) to (batch_size, 28*28)\n",
        "        data = data.view(-1, 28*28)\n",
        "        optimizer.zero_grad()\n",
        "        net_out = net(data)\n",
        "        loss = criterion(net_out, target)\n",
        "        loss.backward()\n",
        "        optimizer.step()\n",
        "        if batch_idx % log_interval == 0:\n",
        "            print('Train Epoch: {} [{}/{} ({:.0f}%)]\\tLoss: {:.6f}'.format(\n",
        "                    epoch, batch_idx * len(data), len(train_loader.dataset),\n",
        "                           100. * batch_idx / len(train_loader), loss.data[0]))"
      ],
      "execution_count": 20,
      "outputs": [
        {
          "output_type": "error",
          "ename": "NameError",
          "evalue": "ignored",
          "traceback": [
            "\u001b[0;31m---------------------------------------------------------------------------\u001b[0m",
            "\u001b[0;31mNameError\u001b[0m                                 Traceback (most recent call last)",
            "\u001b[0;32m<ipython-input-20-152629aa461a>\u001b[0m in \u001b[0;36m<module>\u001b[0;34m()\u001b[0m\n\u001b[1;32m      3\u001b[0m \u001b[0;31m# run the main training loop\u001b[0m\u001b[0;34m\u001b[0m\u001b[0;34m\u001b[0m\u001b[0m\n\u001b[1;32m      4\u001b[0m \u001b[0;32mfor\u001b[0m \u001b[0mepoch\u001b[0m \u001b[0;32min\u001b[0m \u001b[0mrange\u001b[0m\u001b[0;34m(\u001b[0m\u001b[0mepochs\u001b[0m\u001b[0;34m)\u001b[0m\u001b[0;34m:\u001b[0m\u001b[0;34m\u001b[0m\u001b[0m\n\u001b[0;32m----> 5\u001b[0;31m     \u001b[0;32mfor\u001b[0m \u001b[0mbatch_idx\u001b[0m\u001b[0;34m,\u001b[0m \u001b[0;34m(\u001b[0m\u001b[0mdata\u001b[0m\u001b[0;34m,\u001b[0m \u001b[0mtarget\u001b[0m\u001b[0;34m)\u001b[0m \u001b[0;32min\u001b[0m \u001b[0menumerate\u001b[0m\u001b[0;34m(\u001b[0m\u001b[0mtrain_loader\u001b[0m\u001b[0;34m)\u001b[0m\u001b[0;34m:\u001b[0m\u001b[0;34m\u001b[0m\u001b[0m\n\u001b[0m\u001b[1;32m      6\u001b[0m         \u001b[0mdata\u001b[0m\u001b[0;34m,\u001b[0m \u001b[0mtarget\u001b[0m \u001b[0;34m=\u001b[0m \u001b[0mVariable\u001b[0m\u001b[0;34m(\u001b[0m\u001b[0mdata\u001b[0m\u001b[0;34m)\u001b[0m\u001b[0;34m,\u001b[0m \u001b[0mVariable\u001b[0m\u001b[0;34m(\u001b[0m\u001b[0mtarget\u001b[0m\u001b[0;34m)\u001b[0m\u001b[0;34m\u001b[0m\u001b[0m\n\u001b[1;32m      7\u001b[0m         \u001b[0;31m# resize data from (batch_size, 1, 28, 28) to (batch_size, 28*28)\u001b[0m\u001b[0;34m\u001b[0m\u001b[0;34m\u001b[0m\u001b[0m\n",
            "\u001b[0;31mNameError\u001b[0m: name 'train_loader' is not defined"
          ]
        }
      ]
    },
    {
      "metadata": {
        "id": "XCfQEth_LMuP",
        "colab_type": "text"
      },
      "cell_type": "markdown",
      "source": [
        "#References\n",
        "\n",
        "\n",
        "1.  Pytorch documentation (stable-v0.41): https://pytorch.org/docs/stable/index.html\n",
        "\n",
        "- Pytorch documentaiotn (preview- v1.0): https://pytorch.org/docs/master/\n",
        "\n",
        "- Variable Deprecation: https://pytorch.org/docs/stable/autograd.html#variable-deprecated\n",
        "\n",
        "-  Andrej Karpathy quote:\n",
        "https://twitter.com/karpathy/status/868178954032513024\n",
        "\n",
        "- Image of Neural Network: https://cdn-images-https://hackernoon.com/everything-you-need-to-know-about-neural-networks-8988c3ee4491\n",
        "\n",
        "- 6 areas where artificial neural networks outperform humans: https://venturebeat.com/2017/12/08/6-areas-where-artificial-neural-networks-outperform-humans/\n",
        "\n",
        "- AlphaGo: https://en.wikipedia.org/wiki/AlphaGo\n",
        "\n",
        "- Deep Learning Applicatins in Medical Imaging: https://www.techemergence.com/deep-learning-applications-in-medical-imaging/ \n",
        "\n",
        "- How important is deep learning in autonmous driving?- https://www.quora.com/How-important-is-deep-learning-in-autonomous-driving\n",
        "\n",
        "- A PyTorch tutorial – deep learning in Python:  http://adventuresinmachinelearning.com/pytorch-tutorial-deep-learning/\n",
        "\n",
        "- Gradient descent, how neural networks learn | Deep learning, chapter 2:  https://www.youtube.com/watch?v=IHZwWFHWa-w&t=1063s"
      ]
    },
    {
      "metadata": {
        "id": "A3bobUmVeqq8",
        "colab_type": "text"
      },
      "cell_type": "markdown",
      "source": [
        "# Resources\n",
        "## YouTube\n",
        "\n",
        "- 3Blue1Brown (Lot of information about Mathematics relevant to Machine Learning): https://www.youtube.com/channel/UCYO_jab_esuFRV4b17AJtAw\n",
        "\n",
        "\n",
        "- Siraj Raval (Produces a lot of videos explain Machine Learning): https://www.youtube.com/channel/UCWN3xxRkmTPmbKwht9FuE5A\n",
        "\n",
        "\n",
        "## Books\n",
        "- Deep Leaning by GoodFellow et al - http://www.deeplearningbook.org\n",
        "\n",
        "\n",
        "\n",
        "There are a lot of blogs and videos on Machine Learning. "
      ]
    },
    {
      "metadata": {
        "id": "h8Tygm9OZ-gP",
        "colab_type": "text"
      },
      "cell_type": "markdown",
      "source": [
        "# Delete prior to presentation\n",
        "\n",
        "- Explain softmax\n",
        "- Explain why ReLU is non-linear"
      ]
    }
  ]
}