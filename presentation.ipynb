{
  "nbformat": 4,
  "nbformat_minor": 0,
  "metadata": {
    "colab": {
      "name": "presentation.ipynb",
      "version": "0.3.2",
      "provenance": []
    },
    "kernelspec": {
      "display_name": "Python 3",
      "language": "python",
      "name": "python3"
    }
  },
  "cells": [
    {
      "metadata": {
        "id": "xmqkeKIXiuKt",
        "colab_type": "text"
      },
      "cell_type": "markdown",
      "source": [
        "\n",
        "\n",
        "---\n",
        "\n",
        "\n",
        "\n",
        "Philip Adenekan<br>\n",
        "Overview of Pytorch<br>\n",
        "Cherry Lab Dev Meeting<br>\n",
        "\n",
        "Cherry Lab<br>\n",
        "\n",
        "November, 2018\n",
        "\n",
        "\n",
        "---\n",
        "\n"
      ]
    },
    {
      "metadata": {
        "id": "dtLrLieojOGJ",
        "colab_type": "text"
      },
      "cell_type": "markdown",
      "source": [
        "\n",
        "\n",
        "---\n",
        "\n",
        "\n",
        "# Overview \n",
        "- What is Pytorch?<br>\n",
        "- Mathematics<br>\n",
        "- Tensors<br>\n",
        "- Autograd<br>\n",
        "\n",
        "\n",
        "---\n",
        "\n"
      ]
    },
    {
      "metadata": {
        "id": "cDeOqeikj0g8",
        "colab_type": "text"
      },
      "cell_type": "markdown",
      "source": [
        "\n",
        "\n",
        "---\n",
        "\n",
        "\n",
        "# Pytorch\n",
        "- Facebook Python-port of Lua <br>\n",
        "- Used by Facebook, Uber, academia (stanford) and many others<br>\n",
        "- Support lags behind Tensorflow (from Google); but it is gaining grounds<br>\n",
        "\n",
        "- Andrej Karpathy quote- \"*... using Pytorch... I've never felt better. I have more energy. My skin is clearer. My eye sight  has improved*\"\n",
        "https://twitter.com/karpathy/status/868178954032513024\n",
        "\n",
        "---\n",
        "\n",
        "\n"
      ]
    },
    {
      "metadata": {
        "id": "5YN2gw2gkWwt",
        "colab_type": "text"
      },
      "cell_type": "markdown",
      "source": [
        "\n",
        "\n",
        "---\n",
        "\n",
        "\n",
        "# Pytorch Usage\n",
        "It’s a <u>Python-based scientific computing package</u> targeted at two sets of audiences:\n",
        "1.   A replacement for NumPy with added GPU support \n",
        "2.   A deep learning research platform that provides maximum flexibility and speed\n",
        "\n",
        "\n",
        "---\n",
        "\n",
        "\n",
        "\n"
      ]
    },
    {
      "metadata": {
        "id": "0xqekJCPj0DJ",
        "colab_type": "text"
      },
      "cell_type": "markdown",
      "source": [
        "\n",
        "\n",
        "---\n",
        "# Mathematics \n",
        "\n",
        "- Computer Scientista- number, array and nd-array\n",
        "- Mathematicians- scalar, vector and tensor\n",
        "- number=scalar, array/array=vector, nd-array=tensor\n",
        "- Keep in mind- Pytorch uses the terms from mathematics\n",
        "\n",
        "---\n",
        "\n"
      ]
    },
    {
      "metadata": {
        "id": "MidL7qevp7RS",
        "colab_type": "text"
      },
      "cell_type": "markdown",
      "source": [
        "\n",
        "\n",
        "---\n",
        "# Tensors\n",
        "\n",
        "\n",
        "- Pytorch use tensor for scalar and vector\n",
        "\n",
        "\n",
        "```\n",
        "x = torch.tensor([1,2])\n",
        "\n",
        "```\n",
        "\n",
        "Many other means to create a tensor:<br>\n",
        "x = torch.rand(1,2) <br>\n",
        "x =  torch.zeros(1,2) <br>\n",
        "x = torch.ones(1,2)<br>\n",
        "x = torch.Tensor(1,2)\n",
        "\n",
        "\n",
        "---\n",
        "\n"
      ]
    },
    {
      "metadata": {
        "id": "YX1gyE7-ik-r",
        "colab_type": "code",
        "colab": {}
      },
      "cell_type": "code",
      "source": [
        "# http://pytorch.org/\n",
        "from os.path import exists\n",
        "from wheel.pep425tags import get_abbr_impl, get_impl_ver, get_abi_tag\n",
        "platform = '{}{}-{}'.format(get_abbr_impl(), get_impl_ver(), get_abi_tag())\n",
        "cuda_output = !ldconfig -p|grep cudart.so|sed -e 's/.*\\.\\([0-9]*\\)\\.\\([0-9]*\\)$/cu\\1\\2/'\n",
        "accelerator = cuda_output[0] if exists('/dev/nvidia0') else 'cpu'\n",
        "\n",
        "!pip install -q http://download.pytorch.org/whl/{accelerator}/torch-0.4.1-{platform}-linux_x86_64.whl torchvision\n",
        "import torch"
      ],
      "execution_count": 0,
      "outputs": []
    },
    {
      "metadata": {
        "id": "d6sphTczs6Mq",
        "colab_type": "code",
        "colab": {
          "base_uri": "https://localhost:8080/",
          "height": 53
        },
        "outputId": "492704b3-f935-4293-8036-2e5f9f1c342b"
      },
      "cell_type": "code",
      "source": [
        "# building a tensor\n",
        "x = torch.tensor([1,2])\n",
        "print(f'Tensor result: {x}')\n",
        "print(f'Type: {type(x)}')\n",
        "\n"
      ],
      "execution_count": 10,
      "outputs": [
        {
          "output_type": "stream",
          "text": [
            "Tensor result: tensor([1, 2])\n",
            "Type: <class 'torch.Tensor'>\n"
          ],
          "name": "stdout"
        }
      ]
    },
    {
      "metadata": {
        "id": "rZIid1hitm1T",
        "colab_type": "code",
        "colab": {
          "base_uri": "https://localhost:8080/",
          "height": 53
        },
        "outputId": "470854e3-3682-450c-e25f-4344e9268317"
      },
      "cell_type": "code",
      "source": [
        "# tensor information\n",
        "x = torch.tensor([1,2])\n",
        "print(f'Shape: {x.shape}') # count of rows and columns\n",
        "print(f'Dimension: {x.dim()}')"
      ],
      "execution_count": 13,
      "outputs": [
        {
          "output_type": "stream",
          "text": [
            "Shape: torch.Size([2])\n",
            "Dimension: 1\n"
          ],
          "name": "stdout"
        }
      ]
    },
    {
      "metadata": {
        "id": "YXXmDAiaj0VM",
        "colab_type": "text"
      },
      "cell_type": "markdown",
      "source": [
        "\n",
        "\n",
        "\n",
        "```\n",
        "\n"
      ]
    },
    {
      "metadata": {
        "id": "Y_4LMHSp05Mi",
        "colab_type": "text"
      },
      "cell_type": "markdown",
      "source": [
        "\n",
        "\n",
        "---\n",
        "\n",
        "\n",
        "# Variables \n",
        "- Tensor wrapper for storing gradient(stores operations performed on said tensor)\n",
        "- Three componenets\n",
        "    - data; Retrieve tensor\n",
        "    - grad: gradient\n",
        "    - grad_fn: function object for creating variable\n",
        "- Used commonly in deep learning\n",
        "\n",
        "\n",
        "\n",
        "---\n",
        "\n",
        "\n",
        "\n"
      ]
    },
    {
      "metadata": {
        "id": "JBgsAs-4rrL5",
        "colab_type": "code",
        "colab": {}
      },
      "cell_type": "code",
      "source": [
        "# creating a variable\n",
        "y = torch.tensor([1.0,2.0], requires_grad=True) # tensor must be a float"
      ],
      "execution_count": 0,
      "outputs": []
    }
  ]
}