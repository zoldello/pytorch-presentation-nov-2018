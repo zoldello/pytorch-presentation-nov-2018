{
  "nbformat": 4,
  "nbformat_minor": 0,
  "metadata": {
    "colab": {
      "name": "presentation.ipynb",
      "version": "0.3.2",
      "provenance": [],
      "include_colab_link": true
    },
    "kernelspec": {
      "display_name": "Python 3",
      "language": "python",
      "name": "python3"
    }
  },
  "cells": [
    {
      "cell_type": "markdown",
      "metadata": {
        "id": "view-in-github",
        "colab_type": "text"
      },
      "source": [
        "<a href=\"https://colab.research.google.com/github/zoldello/pytorch-presentation-nov-2018/blob/master/presentation.ipynb\" target=\"_parent\"><img src=\"https://colab.research.google.com/assets/colab-badge.svg\" alt=\"Open In Colab\"/></a>"
      ]
    },
    {
      "metadata": {
        "id": "xmqkeKIXiuKt",
        "colab_type": "text"
      },
      "cell_type": "markdown",
      "source": [
        "Philip Adenekan<br>\n",
        "Overview of Pytorch<br>\n",
        "Cherry Lab Dev Meeting<br>\n",
        "\n",
        "Cherry Lab<br>\n",
        "\n",
        "November, 2018\n"
      ]
    },
    {
      "metadata": {
        "id": "dtLrLieojOGJ",
        "colab_type": "text"
      },
      "cell_type": "markdown",
      "source": [
        "# Overview \n",
        "What is Pytorch?<br>\n",
        "Mathematics<br>\n",
        "Tensors<br>\n",
        "Autograd<br>"
      ]
    },
    {
      "metadata": {
        "id": "cDeOqeikj0g8",
        "colab_type": "text"
      },
      "cell_type": "markdown",
      "source": [
        "# Pytorch\n",
        "Python-port of Lua <br>\n",
        "Developed by Facebook<br>\n",
        "Used by Facebook, Uber, academia (stanford) and many others<br>\n",
        "Support lags behind Tensorflow (from Google); but it is gaining grounds\n",
        "\n"
      ]
    },
    {
      "metadata": {
        "id": "5YN2gw2gkWwt",
        "colab_type": "text"
      },
      "cell_type": "markdown",
      "source": [
        "# Pytorch Usage\n",
        "It’s a <u>Python-based scientific computing package</u> targeted at two sets of audiences:\n",
        "1.   A replacement for NumPy with added GPU support \n",
        "2.   A deep learning research platform that provides maximum flexibility and speed\n",
        "\n",
        "\n"
      ]
    },
    {
      "metadata": {
        "id": "0xqekJCPj0DJ",
        "colab_type": "text"
      },
      "cell_type": "markdown",
      "source": [
        ""
      ]
    },
    {
      "metadata": {
        "id": "YXXmDAiaj0VM",
        "colab_type": "text"
      },
      "cell_type": "markdown",
      "source": [
        ""
      ]
    },
    {
      "metadata": {
        "id": "YX1gyE7-ik-r",
        "colab_type": "code",
        "colab": {}
      },
      "cell_type": "code",
      "source": [
        "# http://pytorch.org/\n",
        "from os.path import exists\n",
        "from wheel.pep425tags import get_abbr_impl, get_impl_ver, get_abi_tag\n",
        "platform = '{}{}-{}'.format(get_abbr_impl(), get_impl_ver(), get_abi_tag())\n",
        "cuda_output = !ldconfig -p|grep cudart.so|sed -e 's/.*\\.\\([0-9]*\\)\\.\\([0-9]*\\)$/cu\\1\\2/'\n",
        "accelerator = cuda_output[0] if exists('/dev/nvidia0') else 'cpu'\n",
        "\n",
        "!pip install -q http://download.pytorch.org/whl/{accelerator}/torch-0.4.1-{platform}-linux_x86_64.whl torchvision\n",
        "import torch"
      ],
      "execution_count": 0,
      "outputs": []
    },
    {
      "metadata": {
        "id": "ez4wOVWiia4K",
        "colab_type": "code",
        "colab": {}
      },
      "cell_type": "code",
      "source": [
        "import torch"
      ],
      "execution_count": 0,
      "outputs": []
    }
  ]
}