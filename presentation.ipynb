{
  "nbformat": 4,
  "nbformat_minor": 0,
  "metadata": {
    "colab": {
      "name": "presentation.ipynb",
      "version": "0.3.2",
      "provenance": [],
      "include_colab_link": true
    },
    "kernelspec": {
      "display_name": "Python 3",
      "language": "python",
      "name": "python3"
    }
  },
  "cells": [
    {
      "cell_type": "markdown",
      "metadata": {
        "id": "view-in-github",
        "colab_type": "text"
      },
      "source": [
        "<a href=\"https://colab.research.google.com/github/zoldello/pytorch-presentation-nov-2018/blob/master/presentation.ipynb\" target=\"_parent\"><img src=\"https://colab.research.google.com/assets/colab-badge.svg\" alt=\"Open In Colab\"/></a>"
      ]
    },
    {
      "metadata": {
        "id": "xmqkeKIXiuKt",
        "colab_type": "text"
      },
      "cell_type": "markdown",
      "source": [
        "\n",
        "\n",
        "---\n",
        "\n",
        "\n",
        "\n",
        "## Philip Adenekan \n",
        "## Overview of Pytorch\n",
        "## Cherry Lab Dev Meeting\n",
        "## Cherry Lab\n",
        "## November, 2018\n",
        "\n",
        "\n",
        "---\n",
        "\n"
      ]
    },
    {
      "metadata": {
        "id": "dtLrLieojOGJ",
        "colab_type": "text"
      },
      "cell_type": "markdown",
      "source": [
        "\n",
        "\n",
        "---\n",
        "\n",
        "\n",
        "# Overview \n",
        "- What is Pytorch?\n",
        "-  Mathematics\n",
        "- Tensors\n",
        "- Autograd\n",
        "\n",
        "\n",
        "---\n",
        "\n"
      ]
    },
    {
      "metadata": {
        "id": "5YN2gw2gkWwt",
        "colab_type": "text"
      },
      "cell_type": "markdown",
      "source": [
        "\n",
        "\n",
        "---\n",
        "\n",
        "\n",
        "# Pytorch\n",
        "It’s a <u>Python-based scientific computing package</u> targeted at two sets of audiences:\n",
        "1.   A replacement for NumPy with added GPU support \n",
        "2.   A deep learning research platform that provides maximum flexibility and speed\n",
        "\n",
        "**Presentation based on v0.41; v1 is in preview.**\n",
        "\n",
        "\n",
        "---\n",
        "\n",
        "\n",
        "\n"
      ]
    },
    {
      "metadata": {
        "colab_type": "text",
        "id": "hH43_SSlcWQN"
      },
      "cell_type": "markdown",
      "source": [
        "\n",
        "\n",
        "---\n",
        "\n",
        "\n",
        "# More on Pytorch\n",
        "- Facebook's Python-port of Torch (Torch written in Lua) \n",
        "\n",
        "- Users: Facebook, Uber, Stanford and many others in industry and academia\n",
        "\n",
        "- Andrej Karpathy quote- \"*... using Pytorch... I've never felt better. I have more energy. My skin is clearer. My eye sight  has improved*\" [4]\n",
        "\n",
        "\n",
        "---\n",
        "\n",
        "\n"
      ]
    },
    {
      "metadata": {
        "id": "HWcdc6ESHPiS",
        "colab_type": "text"
      },
      "cell_type": "markdown",
      "source": [
        "\n",
        "\n",
        "---\n",
        "\n",
        "\n",
        "# Them of  Pytorch Operations\n",
        "- Heavy focus on **Tensor** manipulation\n",
        "- Build-in methods to support Tensor operation\n",
        "    - Arithmetic\n",
        "    - Neural Network task\n",
        "    \n",
        "\n",
        "---\n",
        "\n"
      ]
    },
    {
      "metadata": {
        "id": "0xqekJCPj0DJ",
        "colab_type": "text"
      },
      "cell_type": "markdown",
      "source": [
        "\n",
        "\n",
        "---\n",
        "# Mathematics \n",
        "\n",
        "<table>\n",
        "    <th>\n",
        "        <td></td>\n",
        "        <td>**Number**<td>\n",
        "         <td>**1 X n Numbers **<td>\n",
        "                <td>**n X m Numbers**<td>\n",
        "    </th>\n",
        "    <tr>\n",
        "         <td>Computer Scientist<td>\n",
        "         <td>int<td>\n",
        "                <td>array<td>\n",
        "            <td>nd-array<td>\n",
        "    <tr>\n",
        "            <tr>\n",
        "         <td>Mathematicians<td>\n",
        "         <td>scalar<td>\n",
        "                <td>vector<td>\n",
        "            <td>tensor<td>\n",
        "    <tr>\n",
        "   </table>\n",
        "\n",
        "- **Tensor** is commonly used in Pytorch.\n",
        "- Tensor  used to model scalar and vectors (okay in Machine Learning)\n",
        "- Slew of operations possible- Transport, arthmetic, etc\n",
        "\n",
        "               \n",
        "\n",
        "---\n",
        "\n"
      ]
    },
    {
      "metadata": {
        "id": "QGqhm_tXfTMT",
        "colab_type": "text"
      },
      "cell_type": "markdown",
      "source": [
        "\n",
        "\n",
        "---\n",
        "\n",
        "\n",
        "# Mathematical Operations to Keep in Mind\n",
        "\n",
        "- Gradient (just think of it as slope)\n",
        "- Chain role (Find gradient by finding a gradient of something else firt)\n",
        "\n",
        "\n",
        "---\n",
        "\n"
      ]
    },
    {
      "metadata": {
        "id": "YX1gyE7-ik-r",
        "colab_type": "code",
        "colab": {}
      },
      "cell_type": "code",
      "source": [
        "# INITIALIZATION CODE NEEDED BY COLLAB\n",
        "# http://pytorch.org/\n",
        "from os.path import exists\n",
        "from wheel.pep425tags import get_abbr_impl, get_impl_ver, get_abi_tag\n",
        "platform = '{}{}-{}'.format(get_abbr_impl(), get_impl_ver(), get_abi_tag())\n",
        "cuda_output = !ldconfig -p|grep cudart.so|sed -e 's/.*\\.\\([0-9]*\\)\\.\\([0-9]*\\)$/cu\\1\\2/'\n",
        "accelerator = cuda_output[0] if exists('/dev/nvidia0') else 'cpu'\n",
        "\n",
        "!pip install -q http://download.pytorch.org/whl/{accelerator}/torch-0.4.1-{platform}-linux_x86_64.whl torchvision\n",
        "import torch\n",
        "from torch import autograd\n",
        "from torch.autograd import Variable\n"
      ],
      "execution_count": 0,
      "outputs": []
    },
    {
      "metadata": {
        "id": "MidL7qevp7RS",
        "colab_type": "text"
      },
      "cell_type": "markdown",
      "source": [
        "\n",
        "\n",
        "---\n",
        "# Pytorch Tensors\n",
        "\n",
        "- Creating a Tensor\n",
        "\n",
        "\n",
        "```\n",
        "x = torch.tensor([1,2]) # 1-D tensor, vector\n",
        "x = torch.tensor([[1,2], [3,4]]) # 2-D tensor, matrix\n",
        " \n",
        "\n",
        "```\n",
        "\n",
        "Many other means to create a tensor:\n",
        "- x = torch.rand(1,2)\n",
        "- x =  torch.zeros(1,2)\n",
        "- x = torch.ones(1,2)\n",
        "- x = torch.Tensor(1,2)\n",
        "- x = torch.FloatTensor([1,2,3])\n",
        "- x = torch.DoubleTensor([1,2,3])\n",
        "\n",
        "---\n",
        "\n"
      ]
    },
    {
      "metadata": {
        "id": "d6sphTczs6Mq",
        "colab_type": "code",
        "outputId": "1d944d71-e3df-4988-8b14-045dfe5dff77",
        "colab": {
          "base_uri": "https://localhost:8080/",
          "height": 107
        }
      },
      "cell_type": "code",
      "source": [
        "# building a tensor\n",
        "x = torch.tensor([[1.0,2.], [3.,4.]])\n",
        "print(f'Tensor: {x}')\n",
        "print(f'Type: {type(x)}')\n",
        "print(f'DType: {x.dtype}')\n",
        "print(f'Mean: {x.mean()}')\n",
        "\n"
      ],
      "execution_count": 7,
      "outputs": [
        {
          "output_type": "stream",
          "text": [
            "Tensor: tensor([[1., 2.],\n",
            "        [3., 4.]])\n",
            "Type: <class 'torch.Tensor'>\n",
            "DType: torch.float32\n",
            "Mean: 2.5\n"
          ],
          "name": "stdout"
        }
      ]
    },
    {
      "metadata": {
        "id": "rZIid1hitm1T",
        "colab_type": "code",
        "outputId": "c7de7eeb-acd3-49e3-ad87-64e0ca9af87d",
        "colab": {
          "base_uri": "https://localhost:8080/",
          "height": 71
        }
      },
      "cell_type": "code",
      "source": [
        "# tensor information\n",
        "x = torch.tensor([1,2])\n",
        "print(f'Shape: {x.shape}') # count of rows and columns\n",
        "print(f'Size : {x.size()}') # equivalent to shape\n",
        "print(f'Dimension: {x.dim()}')"
      ],
      "execution_count": 3,
      "outputs": [
        {
          "output_type": "stream",
          "text": [
            "Shape: torch.Size([2])\n",
            "Size : torch.Size([2])\n",
            "Dimension: 1\n"
          ],
          "name": "stdout"
        }
      ]
    },
    {
      "metadata": {
        "id": "YXXmDAiaj0VM",
        "colab_type": "text"
      },
      "cell_type": "markdown",
      "source": [
        "\n",
        "\n",
        "\n",
        "```\n",
        "\n"
      ]
    },
    {
      "metadata": {
        "id": "Y_4LMHSp05Mi",
        "colab_type": "text"
      },
      "cell_type": "markdown",
      "source": [
        "\n",
        "\n",
        "---\n",
        "\n",
        "\n",
        "# Variables \n",
        "- ## Deprecated and no longer necessary in v1 pre-release \n",
        "- Many sample code based on v0.41 so good to be aware of it\n",
        "- Tensor wrapper for storing gradient(stores operations performed on said tensor)\n",
        "- Three componenets\n",
        "    - data; Retrieve tensor\n",
        "    - grad: gradient\n",
        "    - grad_fn: function object for creating variable\n",
        "- Used commonly in deep learning\n",
        "\n",
        "\n",
        "\n",
        "\n",
        "---\n",
        "\n",
        "\n",
        "\n"
      ]
    },
    {
      "metadata": {
        "id": "JBgsAs-4rrL5",
        "colab_type": "code",
        "colab": {
          "base_uri": "https://localhost:8080/",
          "height": 35
        },
        "outputId": "18392431-204d-4deb-963a-1803faefba9d"
      },
      "cell_type": "code",
      "source": [
        "# creating a Variable\n",
        "y = Variable(torch.tensor([1.0,2.0], requires_grad=True)) # tensor must be a float\n",
        "print(y)"
      ],
      "execution_count": 10,
      "outputs": [
        {
          "output_type": "stream",
          "text": [
            "tensor([1., 2.])\n"
          ],
          "name": "stdout"
        }
      ]
    },
    {
      "metadata": {
        "id": "07_KFslOO3-p",
        "colab_type": "text"
      },
      "cell_type": "markdown",
      "source": [
        "\n",
        "\n",
        "---\n",
        "\n",
        "# Artifical Neural Network \n",
        "- Collection of nodes loosely based biological brain\n",
        "\n",
        "- Purpose is to model non-linear equation\n",
        "\n",
        "- Needs training\n",
        "\n",
        "- Has three layers\n",
        "    - Input\n",
        "    - Hidden\n",
        "    - Output\n",
        "\n",
        "- Illustration:\n",
        "    - inputs (**X**i) is multiple with weights (wi) and summed\n",
        "    - The total sum is passed through an activation function\n",
        "        - ReLU, Sigmoid, tanh\n",
        "    - Activation function determine output** y**\n",
        "    - ReLU; 0 if y <=0, else y \n",
        "\n",
        "![Neural Network](https://i.stack.imgur.com/gzrsx.png)\n",
        "Fig 1. Image of a Neural Network [5]\n",
        "\n",
        "\n",
        "## Learning: Converge weights so that the error in output from running the Neural Network is very low\n",
        "\n",
        "---\n",
        "\n"
      ]
    },
    {
      "metadata": {
        "id": "vJksD4lgRe-E",
        "colab_type": "text"
      },
      "cell_type": "markdown",
      "source": [
        "\n",
        "\n",
        "---\n",
        "\n",
        "\n",
        "# Deep Neural Networks\n",
        "\n",
        "- Has large number of nodes\n",
        "\n",
        "- Better at modeling complex equation than shallow Neural Network\n",
        "\n",
        "- Exploded-popularity due to great results\n",
        "    - Better at image classification than humans in some cases [6]\n",
        "    - Beat best go-players [7]\n",
        "    - Gaining popularity in biomedical imaging [8]\n",
        "    - Common used in autonomous vehicles [9]\n",
        "   \n",
        "\n",
        "---\n",
        "\n"
      ]
    },
    {
      "metadata": {
        "id": "XkkFextIVIIy",
        "colab_type": "text"
      },
      "cell_type": "markdown",
      "source": [
        "\n",
        "\n",
        "---\n",
        "\n",
        "\n",
        "# Deep Neural Networks Not a Magic Bullet\n",
        "- Need lots of data (100,000 training samples is nice)\n",
        "\n",
        "- Given with GPU, can take days to train\n",
        "\n",
        "- Other solution more effective in small-class problems like linear problems\n",
        "\n",
        "- Current a black box (albeit research is ongoing to change this and technically convolutional neural networks have some interpretation)\n",
        "\n",
        "\n",
        "---\n",
        "\n"
      ]
    },
    {
      "metadata": {
        "id": "q1CKvLSgX5Wd",
        "colab_type": "text"
      },
      "cell_type": "markdown",
      "source": [
        "\n",
        "\n",
        "---\n",
        "# Deep Neural Network of the Demo [10]\n",
        "\n",
        "![Neural Network from Adventure in Machine Learning](http://adventuresinmachinelearning.com/wp-content/uploads/2017/07/CNTK-Dense-example-architecture.jpg)\n",
        "\n",
        "\n",
        "---\n",
        "Fig 2: A  Deep neural network [10]\n",
        "\n",
        "\n",
        "\n",
        "\n"
      ]
    },
    {
      "metadata": {
        "id": "EBpANZ4lW7oC",
        "colab_type": "text"
      },
      "cell_type": "markdown",
      "source": [
        "\n",
        "\n",
        "---\n",
        "\n",
        "\n",
        "# Pytorch-Neural Network Setup\n",
        "- Layers\n",
        "-  Forward Propagation\n",
        "- Training\n",
        "- Validation\n",
        "- Quantification with test data (beyond scope)\n",
        "\n",
        "- This demo will be based on work in [10]\n",
        "\n",
        "\n",
        "---\n",
        "\n"
      ]
    },
    {
      "metadata": {
        "id": "zD8My71QXd4w",
        "colab_type": "code",
        "colab": {}
      },
      "cell_type": "code",
      "source": [
        "import torch.nn as nn # base class for a deep neural network\n",
        "import torch.nn.functional as F\n",
        "\n",
        "class Net(nn.Module):\n",
        "    def __init__(self):\n",
        "        super(Net, self).__init__()\n",
        "        self.fc1 = nn.Linear(28 * 28, 200) # first hidden layer\n",
        "        self.fc2 = nn.Linear(200, 200) # second hidden layer\n",
        "        self.fc3 = nn.Linear(200, 10) # output layer"
      ],
      "execution_count": 0,
      "outputs": []
    },
    {
      "metadata": {
        "id": "onPiQCJbZXUb",
        "colab_type": "code",
        "colab": {}
      },
      "cell_type": "code",
      "source": [
        "# forward propagation\n",
        "def forward(self, x):\n",
        "    x = F.relu(self.fc1(x)) # ReLU activation function on first layer\n",
        "    x = F.relu(self.fc2(x)) # ReLU on second hidden layer \n",
        "    x = self.fc3(x)\n",
        "    return F.log_softmax(x) # softmax"
      ],
      "execution_count": 0,
      "outputs": []
    },
    {
      "metadata": {
        "id": "E7LDTkwxaNqs",
        "colab_type": "code",
        "colab": {
          "base_uri": "https://localhost:8080/",
          "height": 107
        },
        "outputId": "f86b026c-ed28-4314-c3b8-c76e678709c7"
      },
      "cell_type": "code",
      "source": [
        "# lets preview the network\n",
        "net = Net()\n",
        "print(net)"
      ],
      "execution_count": 14,
      "outputs": [
        {
          "output_type": "stream",
          "text": [
            "Net(\n",
            "  (fc1): Linear(in_features=784, out_features=200, bias=True)\n",
            "  (fc2): Linear(in_features=200, out_features=200, bias=True)\n",
            "  (fc3): Linear(in_features=200, out_features=10, bias=True)\n",
            ")\n"
          ],
          "name": "stdout"
        }
      ]
    },
    {
      "metadata": {
        "id": "1G928PIlaVMR",
        "colab_type": "text"
      },
      "cell_type": "markdown",
      "source": [
        "# Status Report\n",
        "- Made a Neural Network\n",
        "- Next Step- Training"
      ]
    },
    {
      "metadata": {
        "id": "XCfQEth_LMuP",
        "colab_type": "text"
      },
      "cell_type": "markdown",
      "source": [
        "#References\n",
        "\n",
        "\n",
        "1.  Pytorch documentation (stable-v0.41): https://pytorch.org/docs/stable/index.html\n",
        "\n",
        "- Pytorch documentaiotn (preview- v1.0): https://pytorch.org/docs/master/\n",
        "\n",
        "- Variable Deprecation: https://pytorch.org/docs/stable/autograd.html#variable-deprecated\n",
        "\n",
        "-  Andrej Karpathy quote:\n",
        "https://twitter.com/karpathy/status/868178954032513024\n",
        "\n",
        "- Image of Neural Network: https://stackoverflow.com/questions/40537503/deep-neural-networks-precision-for-image-recognition-float-or-double\n",
        "\n",
        "- 6 areas where artificial neural networks outperform humans: https://venturebeat.com/2017/12/08/6-areas-where-artificial-neural-networks-outperform-humans/\n",
        "\n",
        "- AlphaGo: https://en.wikipedia.org/wiki/AlphaGo\n",
        "\n",
        "- Deep Learning Applicatins in Medical Imaging: https://www.techemergence.com/deep-learning-applications-in-medical-imaging/ \n",
        "\n",
        "- How important is deep learning in autonmous driving?- https://www.quora.com/How-important-is-deep-learning-in-autonomous-driving\n",
        "\n",
        "- A PyTorch tutorial – deep learning in Python:  http://adventuresinmachinelearning.com/pytorch-tutorial-deep-learning/\n"
      ]
    },
    {
      "metadata": {
        "id": "T_iFiB3SaLo6",
        "colab_type": "code",
        "colab": {}
      },
      "cell_type": "code",
      "source": [
        ""
      ],
      "execution_count": 0,
      "outputs": []
    },
    {
      "metadata": {
        "id": "h8Tygm9OZ-gP",
        "colab_type": "text"
      },
      "cell_type": "markdown",
      "source": [
        "# Delete prior to presentation\n",
        "\n",
        "- Explain softmax\n",
        "- Explain why ReLU is non-linear"
      ]
    }
  ]
}